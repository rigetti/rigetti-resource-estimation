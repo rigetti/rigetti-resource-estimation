{
 "cells": [
  {
   "cell_type": "markdown",
   "metadata": {},
   "source": [
    "![Rigetti logo](https://qcs.rigetti.com/static/img/rigetti-logo.svg)\n",
    "\n",
    "&copy; Copyright 2022-2024 Rigetti & Co, Inc.\n",
    "\n",
    "*This Computer Software is developed under Agreement HR00112230006 \"Guidestars for Modular Quantum Computing\" between Rigetti & Co LLC and the Defense Advanced Research Projects Agency (DARPA). Use, duplication, or disclosure is subject to the restrictions as stated in Agreement HR00112230006 between the Government and the Performer.*"
   ]
  },
  {
   "cell_type": "markdown",
   "metadata": {},
   "source": [
    "# `rigetti-resource-estimation` basic demo"
   ]
  },
  {
   "cell_type": "markdown",
   "metadata": {},
   "source": [
    "### 1. Some global imports and setup"
   ]
  },
  {
   "cell_type": "code",
   "execution_count": null,
   "metadata": {
    "tags": []
   },
   "outputs": [],
   "source": [
    "from pathlib import Path\n",
    "\n",
    "from rigetti_resource_estimation.estimation_pipeline import estimation_pipeline\n",
    "\n",
    "input_dir = Path(\"./input\")\n",
    "\n",
    "output_dir = Path(\"./output\")\n",
    "output_dir.mkdir(parents=True, exist_ok=True)"
   ]
  },
  {
   "cell_type": "markdown",
   "metadata": {},
   "source": [
    "### 2. Input logical circuits (in OpenQASM2.0)"
   ]
  },
  {
   "cell_type": "markdown",
   "metadata": {},
   "source": [
    "Simple Quantum Fourier Transform circuits with 4 and 10 qubits."
   ]
  },
  {
   "cell_type": "code",
   "execution_count": null,
   "metadata": {
    "tags": []
   },
   "outputs": [],
   "source": [
    "circ_path_qft4 = input_dir / \"qft4.qasm\""
   ]
  },
  {
   "cell_type": "code",
   "execution_count": null,
   "metadata": {
    "tags": []
   },
   "outputs": [],
   "source": [
    "circ_path_qft10 = input_dir / \"qft10.qasm\""
   ]
  },
  {
   "cell_type": "markdown",
   "metadata": {},
   "source": [
    "### 3. Hardware configuration parameters\n",
    "All hardware, architectural, algorithmic configurations are unified and set in `python/params.yaml`, which can be editted as desired. A description of some of these parameters and their default values are listed here for convenience.\n",
    "\n",
    "* ```phys_gate_error_rate: 0.001```\n",
    "\n",
    "  A homogeneous gate error rate that sets how quickly logical errors are suppressed. For example, 1e-3\n",
    "  means a factor of 10 suppression with each increase of $d$ by 2 here; this is the value we adopt.\n",
    "\n",
    "* ```qcycle_char_timescale_ns: 50```\n",
    "\n",
    "  Characteristic quantum timescale for the hardware architecture to execute physical-level gates in ns.\n",
    "  This quantity specifies the cycle timescale for surface code's lattice surgery ops; we adopt a nominal value of 50ns.\n",
    "\n",
    "* ```target_p_algo: 0.5```\n",
    "\n",
    "  Desired algorithm failure probability/threshold/rate budget targeted for executing the full logical circuit.\n",
    "  \n",
    "* ```1q_unitary_decomp_method: gridsynth```\n",
    "\n",
    "  Decomposition method for transforming arbitrary (small-angle) 1Q unitaries into Clifford+T at measurement\n",
    "  points. This choice will set two constants used in the decomposition formula of c0*log2(1/eps)+c1. \n",
    "  --- Supported inputs ---\n",
    "    \"gridsynth\": the original GridSynth decomposition proposed by [Ross and Selinger 2014, arXiv:1403.2975]\n",
    "    and is used in upstream tools such as Jabalizer and NewSynth. Here, c0=4.0 and c1=0.\n",
    "    \"mixed_fallback\": the state-of-the-art mixed-fallback approach improving on the GridSynth's Clifford+T\n",
    "    results published by [Kliuchnikov et al. 2022, arXiv:2203.10064] among other decomposition methods. Here,\n",
    "    c0=0.57 and c1=8.83. (DEFAULT)\n",
    "\n",
    "* ```fixed_eps: null```\n",
    "\n",
    "  If set here, manually, it will override the automated calculation of `eps` based on transcendental equations\n",
    "  with this fixed value."
   ]
  },
  {
   "cell_type": "markdown",
   "metadata": {},
   "source": [
    "### 4. Running the estimation experiment"
   ]
  },
  {
   "cell_type": "code",
   "execution_count": null,
   "metadata": {
    "tags": []
   },
   "outputs": [],
   "source": [
    "output_csv = output_dir / \"test.csv\""
   ]
  },
  {
   "cell_type": "markdown",
   "metadata": {},
   "source": [
    "Resource estimation through graph-state-based compilation:"
   ]
  },
  {
   "cell_type": "code",
   "execution_count": null,
   "metadata": {
    "tags": []
   },
   "outputs": [],
   "source": [
    "estimation_pipeline(\n",
    "    circ_path=str(circ_path_qft4),\n",
    "    est_method=\"jabalizer\",\n",
    "    output_csv=output_csv,\n",
    "    log=\"DEBUG\",\n",
    ")"
   ]
  },
  {
   "cell_type": "markdown",
   "metadata": {},
   "source": [
    "Resource estimation through T-counting methods:"
   ]
  },
  {
   "cell_type": "code",
   "execution_count": null,
   "metadata": {
    "tags": []
   },
   "outputs": [],
   "source": [
    "estimation_pipeline(\n",
    "    circ_path=str(circ_path_qft4),\n",
    "    est_method=\"t_counting\",\n",
    "    graph_state_opt=\"no_compile\",\n",
    "    output_csv=output_csv,\n",
    "    log=\"INFO\",\n",
    ")"
   ]
  },
  {
   "cell_type": "code",
   "execution_count": null,
   "metadata": {},
   "outputs": [],
   "source": []
  }
 ],
 "metadata": {
  "kernelspec": {
   "display_name": "Python 3 (ipykernel)",
   "language": "python",
   "name": "python3"
  },
  "language_info": {
   "codemirror_mode": {
    "name": "ipython",
    "version": 3
   },
   "file_extension": ".py",
   "mimetype": "text/x-python",
   "name": "python",
   "nbconvert_exporter": "python",
   "pygments_lexer": "ipython3",
   "version": "3.8.14"
  }
 },
 "nbformat": 4,
 "nbformat_minor": 4
}
